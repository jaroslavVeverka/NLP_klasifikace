{
 "cells": [
  {
   "cell_type": "code",
   "execution_count": 177,
   "metadata": {},
   "outputs": [],
   "source": [
    "from IPython.core.interactiveshell import InteractiveShell\n",
    "InteractiveShell.ast_node_interactivity = \"all\"\n",
    "\n",
    "import pandas as pd\n",
    "import re\n",
    "import seaborn as sns\n",
    "import numpy as np\n",
    "import matplotlib.pyplot as plt\n",
    "\n",
    "import nltk\n",
    "from nltk.tokenize import word_tokenize\n",
    "from nltk.tokenize.treebank import TreebankWordDetokenizer\n",
    "import string\n",
    "from stop_words import get_stop_words\n",
    "\n",
    "import simplemma\n",
    "import simpletransformers\n",
    "from sklearn.model_selection import train_test_split\n",
    "from simpletransformers.classification import ClassificationModel\n",
    "from sklearn.preprocessing import LabelEncoder\n",
    "from sklearn.metrics import confusion_matrix, accuracy_score"
   ]
  },
  {
   "cell_type": "markdown",
   "metadata": {},
   "source": [
    "## Načtení datasetu"
   ]
  },
  {
   "cell_type": "code",
   "execution_count": 178,
   "metadata": {},
   "outputs": [],
   "source": [
    "dataset = pd.read_csv(\"./dataset_rss.csv\")"
   ]
  },
  {
   "cell_type": "markdown",
   "metadata": {},
   "source": [
    "## Základní EDA"
   ]
  },
  {
   "cell_type": "markdown",
   "metadata": {},
   "source": [
    "Ještě před samotnou klasifikační úlohou je vhodné porozumět datům. K tomu nám poslouží základní EDA.\n",
    "\n",
    "### Dimenze datasetu a shrnutí základních informací"
   ]
  },
  {
   "cell_type": "code",
   "execution_count": 179,
   "metadata": {},
   "outputs": [
    {
     "data": {
      "text/plain": [
       "(45911, 3)"
      ]
     },
     "execution_count": 179,
     "metadata": {},
     "output_type": "execute_result"
    },
    {
     "name": "stdout",
     "output_type": "stream",
     "text": [
      "<class 'pandas.core.frame.DataFrame'>\n",
      "RangeIndex: 45911 entries, 0 to 45910\n",
      "Data columns (total 3 columns):\n",
      " #   Column  Non-Null Count  Dtype \n",
      "---  ------  --------------  ----- \n",
      " 0   url     45911 non-null  object\n",
      " 1   title   45911 non-null  object\n",
      " 2   perex   45911 non-null  object\n",
      "dtypes: object(3)\n",
      "memory usage: 1.1+ MB\n"
     ]
    },
    {
     "data": {
      "text/plain": [
       "0"
      ]
     },
     "execution_count": 179,
     "metadata": {},
     "output_type": "execute_result"
    },
    {
     "data": {
      "text/plain": [
       "url      0\n",
       "title    0\n",
       "perex    0\n",
       "dtype: int64"
      ]
     },
     "execution_count": 179,
     "metadata": {},
     "output_type": "execute_result"
    }
   ],
   "source": [
    "dataset.shape\n",
    "dataset.info()\n",
    "\n",
    "# jsou v datasetu duplikované záznamy?\n",
    "dup = dataset.duplicated()\n",
    "sum(dup)\n",
    "\n",
    "# jsou v datasetu chybějící hodnoty?\n",
    "dataset.isnull().sum()"
   ]
  },
  {
   "cell_type": "markdown",
   "metadata": {},
   "source": [
    "Z výstupu je patrné, že dataset neobsahuje chybějící hodnoty ani duplikované záznamy."
   ]
  },
  {
   "cell_type": "markdown",
   "metadata": {},
   "source": [
    "### Zobrazení prvních/posledních pěti záznamů a náhodně vybraných deseti záznamů "
   ]
  },
  {
   "cell_type": "code",
   "execution_count": 180,
   "metadata": {
    "scrolled": true
   },
   "outputs": [
    {
     "data": {
      "text/html": [
       "<div>\n",
       "<style scoped>\n",
       "    .dataframe tbody tr th:only-of-type {\n",
       "        vertical-align: middle;\n",
       "    }\n",
       "\n",
       "    .dataframe tbody tr th {\n",
       "        vertical-align: top;\n",
       "    }\n",
       "\n",
       "    .dataframe thead th {\n",
       "        text-align: right;\n",
       "    }\n",
       "</style>\n",
       "<table border=\"1\" class=\"dataframe\">\n",
       "  <thead>\n",
       "    <tr style=\"text-align: right;\">\n",
       "      <th></th>\n",
       "      <th>url</th>\n",
       "      <th>title</th>\n",
       "      <th>perex</th>\n",
       "    </tr>\n",
       "  </thead>\n",
       "  <tbody>\n",
       "    <tr>\n",
       "      <th>0</th>\n",
       "      <td>https://www.novinky.cz/auto/404533-modernizova...</td>\n",
       "      <td>Modernizovaný VW Amarok ukázal interiér, v Čes...</td>\n",
       "      <td>Automobilka Volkswagen konečně zveřejnila sním...</td>\n",
       "    </tr>\n",
       "    <tr>\n",
       "      <th>1</th>\n",
       "      <td>https://www.novinky.cz/auto/416704-audi-r8-v10...</td>\n",
       "      <td>Audi R8 V10 Plus: Podívejte se, s jakou lehkos...</td>\n",
       "      <td>Na několik dní se v naší redakční garáži objev...</td>\n",
       "    </tr>\n",
       "    <tr>\n",
       "      <th>2</th>\n",
       "      <td>https://www.novinky.cz/auto/429367-toyota-uz-p...</td>\n",
       "      <td>Toyota už prodala deset miliónů hybridů</td>\n",
       "      <td>Na světě není značka, která by mohla říct, že ...</td>\n",
       "    </tr>\n",
       "    <tr>\n",
       "      <th>3</th>\n",
       "      <td>https://www.novinky.cz/auto/430723-ridit-auto-...</td>\n",
       "      <td>Řídit auto z pohodlí obýváku? Díky 5G sítím to...</td>\n",
       "      <td>Zní to jako sci-fi, ale představte si, že vaše...</td>\n",
       "    </tr>\n",
       "    <tr>\n",
       "      <th>4</th>\n",
       "      <td>https://www.novinky.cz/auto/434065-novy-renaul...</td>\n",
       "      <td>Nový Renault Mégane R.S. dostane menší motor</td>\n",
       "      <td>Nový nejrychlejší Renault Mégane R.S. bude mít...</td>\n",
       "    </tr>\n",
       "  </tbody>\n",
       "</table>\n",
       "</div>"
      ],
      "text/plain": [
       "                                                 url  \\\n",
       "0  https://www.novinky.cz/auto/404533-modernizova...   \n",
       "1  https://www.novinky.cz/auto/416704-audi-r8-v10...   \n",
       "2  https://www.novinky.cz/auto/429367-toyota-uz-p...   \n",
       "3  https://www.novinky.cz/auto/430723-ridit-auto-...   \n",
       "4  https://www.novinky.cz/auto/434065-novy-renaul...   \n",
       "\n",
       "                                               title  \\\n",
       "0  Modernizovaný VW Amarok ukázal interiér, v Čes...   \n",
       "1  Audi R8 V10 Plus: Podívejte se, s jakou lehkos...   \n",
       "2            Toyota už prodala deset miliónů hybridů   \n",
       "3  Řídit auto z pohodlí obýváku? Díky 5G sítím to...   \n",
       "4       Nový Renault Mégane R.S. dostane menší motor   \n",
       "\n",
       "                                               perex  \n",
       "0  Automobilka Volkswagen konečně zveřejnila sním...  \n",
       "1  Na několik dní se v naší redakční garáži objev...  \n",
       "2  Na světě není značka, která by mohla říct, že ...  \n",
       "3  Zní to jako sci-fi, ale představte si, že vaše...  \n",
       "4  Nový nejrychlejší Renault Mégane R.S. bude mít...  "
      ]
     },
     "execution_count": 180,
     "metadata": {},
     "output_type": "execute_result"
    },
    {
     "data": {
      "text/html": [
       "<div>\n",
       "<style scoped>\n",
       "    .dataframe tbody tr th:only-of-type {\n",
       "        vertical-align: middle;\n",
       "    }\n",
       "\n",
       "    .dataframe tbody tr th {\n",
       "        vertical-align: top;\n",
       "    }\n",
       "\n",
       "    .dataframe thead th {\n",
       "        text-align: right;\n",
       "    }\n",
       "</style>\n",
       "<table border=\"1\" class=\"dataframe\">\n",
       "  <thead>\n",
       "    <tr style=\"text-align: right;\">\n",
       "      <th></th>\n",
       "      <th>url</th>\n",
       "      <th>title</th>\n",
       "      <th>perex</th>\n",
       "    </tr>\n",
       "  </thead>\n",
       "  <tbody>\n",
       "    <tr>\n",
       "      <th>45906</th>\n",
       "      <td>http://www.novinky.cz/zena/zdravi/397057-pet-b...</td>\n",
       "      <td>Pět bylin na pročištění těla</td>\n",
       "      <td>Zbavovat tělo škodlivých látek můžete kdykoli,...</td>\n",
       "    </tr>\n",
       "    <tr>\n",
       "      <th>45907</th>\n",
       "      <td>http://www.novinky.cz/zena/zdravi/397264-pust-...</td>\n",
       "      <td>Půst není o hladovění</td>\n",
       "      <td>S přicházejícím jarem nastává období očisty or...</td>\n",
       "    </tr>\n",
       "    <tr>\n",
       "      <th>45908</th>\n",
       "      <td>http://pravo.novinky.cz/p101a05a.php</td>\n",
       "      <td>Krúpa by na dluh ČSSD počkal i roky</td>\n",
       "      <td>Skupina Arca Capital slovenského miliardáře Pa...</td>\n",
       "    </tr>\n",
       "    <tr>\n",
       "      <th>45909</th>\n",
       "      <td>http://pravo.novinky.cz/p125a04b.php</td>\n",
       "      <td>Mlha kolem StarDance</td>\n",
       "      <td>Ke konci roku začne Česká televize (ČT) vysíla...</td>\n",
       "    </tr>\n",
       "    <tr>\n",
       "      <th>45910</th>\n",
       "      <td>http://pravo.novinky.cz/p145a01e.php</td>\n",
       "      <td>Matka, bojující za byt pro svého autistického ...</td>\n",
       "      <td>Helena (55) trpící rakovinou, která se starala...</td>\n",
       "    </tr>\n",
       "  </tbody>\n",
       "</table>\n",
       "</div>"
      ],
      "text/plain": [
       "                                                     url  \\\n",
       "45906  http://www.novinky.cz/zena/zdravi/397057-pet-b...   \n",
       "45907  http://www.novinky.cz/zena/zdravi/397264-pust-...   \n",
       "45908               http://pravo.novinky.cz/p101a05a.php   \n",
       "45909               http://pravo.novinky.cz/p125a04b.php   \n",
       "45910               http://pravo.novinky.cz/p145a01e.php   \n",
       "\n",
       "                                                   title  \\\n",
       "45906                       Pět bylin na pročištění těla   \n",
       "45907                              Půst není o hladovění   \n",
       "45908                Krúpa by na dluh ČSSD počkal i roky   \n",
       "45909                               Mlha kolem StarDance   \n",
       "45910  Matka, bojující za byt pro svého autistického ...   \n",
       "\n",
       "                                                   perex  \n",
       "45906  Zbavovat tělo škodlivých látek můžete kdykoli,...  \n",
       "45907  S přicházejícím jarem nastává období očisty or...  \n",
       "45908  Skupina Arca Capital slovenského miliardáře Pa...  \n",
       "45909  Ke konci roku začne Česká televize (ČT) vysíla...  \n",
       "45910  Helena (55) trpící rakovinou, která se starala...  "
      ]
     },
     "execution_count": 180,
     "metadata": {},
     "output_type": "execute_result"
    },
    {
     "data": {
      "text/html": [
       "<div>\n",
       "<style scoped>\n",
       "    .dataframe tbody tr th:only-of-type {\n",
       "        vertical-align: middle;\n",
       "    }\n",
       "\n",
       "    .dataframe tbody tr th {\n",
       "        vertical-align: top;\n",
       "    }\n",
       "\n",
       "    .dataframe thead th {\n",
       "        text-align: right;\n",
       "    }\n",
       "</style>\n",
       "<table border=\"1\" class=\"dataframe\">\n",
       "  <thead>\n",
       "    <tr style=\"text-align: right;\">\n",
       "      <th></th>\n",
       "      <th>url</th>\n",
       "      <th>title</th>\n",
       "      <th>perex</th>\n",
       "    </tr>\n",
       "  </thead>\n",
       "  <tbody>\n",
       "    <tr>\n",
       "      <th>23782</th>\n",
       "      <td>https://www.novinky.cz/vase-zpravy/jihomoravsk...</td>\n",
       "      <td>Autorské čtení Jaroslava Hutky na kunštátském ...</td>\n",
       "      <td>Hudebník, skladatel, písničkář, fejetonista Ja...</td>\n",
       "    </tr>\n",
       "    <tr>\n",
       "      <th>14979</th>\n",
       "      <td>https://www.novinky.cz/vase-zpravy/stredocesky...</td>\n",
       "      <td>MMA zápasnice Lucie Pudilová odletěla do Švéds...</td>\n",
       "      <td>Nejdrsnější MMA zápasnice Lucie Pudilová se po...</td>\n",
       "    </tr>\n",
       "    <tr>\n",
       "      <th>42483</th>\n",
       "      <td>https://www.novinky.cz/vase-zpravy/ustecky-kra...</td>\n",
       "      <td>Střekovský festival Mezi Dvorci již po šesté</td>\n",
       "      <td>Na Střekově se v sobotu uskuteční festival Mez...</td>\n",
       "    </tr>\n",
       "    <tr>\n",
       "      <th>41702</th>\n",
       "      <td>https://www.novinky.cz/auto/428858-skoda-poprv...</td>\n",
       "      <td>Škoda poprvé ukázala omlazené citigo, natáhlo ...</td>\n",
       "      <td>Škoda vytasila svůj patrně poslední model, kte...</td>\n",
       "    </tr>\n",
       "    <tr>\n",
       "      <th>33323</th>\n",
       "      <td>http://www.novinky.cz/auto/401229-volkswagen-v...</td>\n",
       "      <td>Volkswagen vylepší další užitkové vozy. Dojde ...</td>\n",
       "      <td>Zatímco většina konkurentů mění své vozy po ně...</td>\n",
       "    </tr>\n",
       "    <tr>\n",
       "      <th>39211</th>\n",
       "      <td>https://www.novinky.cz/vase-zpravy/vysocina/ji...</td>\n",
       "      <td>Jana Kratochvílová odstartuje turné na zámku v...</td>\n",
       "      <td>Podzimní turné nezaměnitelné zpěvačky Jany Kra...</td>\n",
       "    </tr>\n",
       "    <tr>\n",
       "      <th>35165</th>\n",
       "      <td>https://www.novinky.cz/zahranicni/evropa/44541...</td>\n",
       "      <td>V Německu a Nizozemsku přibývá lidí se zahrani...</td>\n",
       "      <td>V Německu nadále stoupá počet lidí s migračním...</td>\n",
       "    </tr>\n",
       "    <tr>\n",
       "      <th>32153</th>\n",
       "      <td>https://www.novinky.cz/vase-zpravy/jihomoravsk...</td>\n",
       "      <td>Do Mikulova na folklorní festival Sousedé doje...</td>\n",
       "      <td>Folklorní festival Sousedé se bude letos v Mik...</td>\n",
       "    </tr>\n",
       "    <tr>\n",
       "      <th>5508</th>\n",
       "      <td>http://www.novinky.cz/zahranicni/evropa/385717...</td>\n",
       "      <td>Putinova exporadce našli mrtvého v americkém h...</td>\n",
       "      <td>V hotelu Dupont Circle ve Washingtonu byl nale...</td>\n",
       "    </tr>\n",
       "    <tr>\n",
       "      <th>1593</th>\n",
       "      <td>https://www.novinky.cz/mff-kv-2016/408505-nocn...</td>\n",
       "      <td>Noční život je o strachu v dnešní Evropě a moc...</td>\n",
       "      <td>Režisér a scenárista Damjan Kozole s herečkou ...</td>\n",
       "    </tr>\n",
       "  </tbody>\n",
       "</table>\n",
       "</div>"
      ],
      "text/plain": [
       "                                                     url  \\\n",
       "23782  https://www.novinky.cz/vase-zpravy/jihomoravsk...   \n",
       "14979  https://www.novinky.cz/vase-zpravy/stredocesky...   \n",
       "42483  https://www.novinky.cz/vase-zpravy/ustecky-kra...   \n",
       "41702  https://www.novinky.cz/auto/428858-skoda-poprv...   \n",
       "33323  http://www.novinky.cz/auto/401229-volkswagen-v...   \n",
       "39211  https://www.novinky.cz/vase-zpravy/vysocina/ji...   \n",
       "35165  https://www.novinky.cz/zahranicni/evropa/44541...   \n",
       "32153  https://www.novinky.cz/vase-zpravy/jihomoravsk...   \n",
       "5508   http://www.novinky.cz/zahranicni/evropa/385717...   \n",
       "1593   https://www.novinky.cz/mff-kv-2016/408505-nocn...   \n",
       "\n",
       "                                                   title  \\\n",
       "23782  Autorské čtení Jaroslava Hutky na kunštátském ...   \n",
       "14979  MMA zápasnice Lucie Pudilová odletěla do Švéds...   \n",
       "42483       Střekovský festival Mezi Dvorci již po šesté   \n",
       "41702  Škoda poprvé ukázala omlazené citigo, natáhlo ...   \n",
       "33323  Volkswagen vylepší další užitkové vozy. Dojde ...   \n",
       "39211  Jana Kratochvílová odstartuje turné na zámku v...   \n",
       "35165  V Německu a Nizozemsku přibývá lidí se zahrani...   \n",
       "32153  Do Mikulova na folklorní festival Sousedé doje...   \n",
       "5508   Putinova exporadce našli mrtvého v americkém h...   \n",
       "1593   Noční život je o strachu v dnešní Evropě a moc...   \n",
       "\n",
       "                                                   perex  \n",
       "23782  Hudebník, skladatel, písničkář, fejetonista Ja...  \n",
       "14979  Nejdrsnější MMA zápasnice Lucie Pudilová se po...  \n",
       "42483  Na Střekově se v sobotu uskuteční festival Mez...  \n",
       "41702  Škoda vytasila svůj patrně poslední model, kte...  \n",
       "33323  Zatímco většina konkurentů mění své vozy po ně...  \n",
       "39211  Podzimní turné nezaměnitelné zpěvačky Jany Kra...  \n",
       "35165  V Německu nadále stoupá počet lidí s migračním...  \n",
       "32153  Folklorní festival Sousedé se bude letos v Mik...  \n",
       "5508   V hotelu Dupont Circle ve Washingtonu byl nale...  \n",
       "1593   Režisér a scenárista Damjan Kozole s herečkou ...  "
      ]
     },
     "execution_count": 180,
     "metadata": {},
     "output_type": "execute_result"
    }
   ],
   "source": [
    "dataset.head()\n",
    "dataset.tail()\n",
    "dataset.sample(10)"
   ]
  },
  {
   "cell_type": "markdown",
   "metadata": {},
   "source": [
    "## Předzpracování datasetu \n",
    "\n",
    "Pro účely provedení supervizované klasifikační úlohy je nutné určit každému záznamu *label*, tj. třídu cílového atributu."
   ]
  },
  {
   "cell_type": "code",
   "execution_count": 181,
   "metadata": {},
   "outputs": [],
   "source": [
    "dataset['label'] = dataset['url'].str.extract('.cz/(.+?)/')"
   ]
  },
  {
   "cell_type": "markdown",
   "metadata": {},
   "source": [
    "### Kontrola nového atributu"
   ]
  },
  {
   "cell_type": "code",
   "execution_count": 182,
   "metadata": {},
   "outputs": [
    {
     "data": {
      "text/html": [
       "<div>\n",
       "<style scoped>\n",
       "    .dataframe tbody tr th:only-of-type {\n",
       "        vertical-align: middle;\n",
       "    }\n",
       "\n",
       "    .dataframe tbody tr th {\n",
       "        vertical-align: top;\n",
       "    }\n",
       "\n",
       "    .dataframe thead th {\n",
       "        text-align: right;\n",
       "    }\n",
       "</style>\n",
       "<table border=\"1\" class=\"dataframe\">\n",
       "  <thead>\n",
       "    <tr style=\"text-align: right;\">\n",
       "      <th></th>\n",
       "      <th>url</th>\n",
       "      <th>title</th>\n",
       "      <th>perex</th>\n",
       "      <th>label</th>\n",
       "    </tr>\n",
       "  </thead>\n",
       "  <tbody>\n",
       "    <tr>\n",
       "      <th>0</th>\n",
       "      <td>https://www.novinky.cz/auto/404533-modernizova...</td>\n",
       "      <td>Modernizovaný VW Amarok ukázal interiér, v Čes...</td>\n",
       "      <td>Automobilka Volkswagen konečně zveřejnila sním...</td>\n",
       "      <td>auto</td>\n",
       "    </tr>\n",
       "    <tr>\n",
       "      <th>1</th>\n",
       "      <td>https://www.novinky.cz/auto/416704-audi-r8-v10...</td>\n",
       "      <td>Audi R8 V10 Plus: Podívejte se, s jakou lehkos...</td>\n",
       "      <td>Na několik dní se v naší redakční garáži objev...</td>\n",
       "      <td>auto</td>\n",
       "    </tr>\n",
       "    <tr>\n",
       "      <th>2</th>\n",
       "      <td>https://www.novinky.cz/auto/429367-toyota-uz-p...</td>\n",
       "      <td>Toyota už prodala deset miliónů hybridů</td>\n",
       "      <td>Na světě není značka, která by mohla říct, že ...</td>\n",
       "      <td>auto</td>\n",
       "    </tr>\n",
       "    <tr>\n",
       "      <th>3</th>\n",
       "      <td>https://www.novinky.cz/auto/430723-ridit-auto-...</td>\n",
       "      <td>Řídit auto z pohodlí obýváku? Díky 5G sítím to...</td>\n",
       "      <td>Zní to jako sci-fi, ale představte si, že vaše...</td>\n",
       "      <td>auto</td>\n",
       "    </tr>\n",
       "    <tr>\n",
       "      <th>4</th>\n",
       "      <td>https://www.novinky.cz/auto/434065-novy-renaul...</td>\n",
       "      <td>Nový Renault Mégane R.S. dostane menší motor</td>\n",
       "      <td>Nový nejrychlejší Renault Mégane R.S. bude mít...</td>\n",
       "      <td>auto</td>\n",
       "    </tr>\n",
       "  </tbody>\n",
       "</table>\n",
       "</div>"
      ],
      "text/plain": [
       "                                                 url  \\\n",
       "0  https://www.novinky.cz/auto/404533-modernizova...   \n",
       "1  https://www.novinky.cz/auto/416704-audi-r8-v10...   \n",
       "2  https://www.novinky.cz/auto/429367-toyota-uz-p...   \n",
       "3  https://www.novinky.cz/auto/430723-ridit-auto-...   \n",
       "4  https://www.novinky.cz/auto/434065-novy-renaul...   \n",
       "\n",
       "                                               title  \\\n",
       "0  Modernizovaný VW Amarok ukázal interiér, v Čes...   \n",
       "1  Audi R8 V10 Plus: Podívejte se, s jakou lehkos...   \n",
       "2            Toyota už prodala deset miliónů hybridů   \n",
       "3  Řídit auto z pohodlí obýváku? Díky 5G sítím to...   \n",
       "4       Nový Renault Mégane R.S. dostane menší motor   \n",
       "\n",
       "                                               perex label  \n",
       "0  Automobilka Volkswagen konečně zveřejnila sním...  auto  \n",
       "1  Na několik dní se v naší redakční garáži objev...  auto  \n",
       "2  Na světě není značka, která by mohla říct, že ...  auto  \n",
       "3  Zní to jako sci-fi, ale představte si, že vaše...  auto  \n",
       "4  Nový nejrychlejší Renault Mégane R.S. bude mít...  auto  "
      ]
     },
     "execution_count": 182,
     "metadata": {},
     "output_type": "execute_result"
    },
    {
     "data": {
      "text/html": [
       "<div>\n",
       "<style scoped>\n",
       "    .dataframe tbody tr th:only-of-type {\n",
       "        vertical-align: middle;\n",
       "    }\n",
       "\n",
       "    .dataframe tbody tr th {\n",
       "        vertical-align: top;\n",
       "    }\n",
       "\n",
       "    .dataframe thead th {\n",
       "        text-align: right;\n",
       "    }\n",
       "</style>\n",
       "<table border=\"1\" class=\"dataframe\">\n",
       "  <thead>\n",
       "    <tr style=\"text-align: right;\">\n",
       "      <th></th>\n",
       "      <th>url</th>\n",
       "      <th>title</th>\n",
       "      <th>perex</th>\n",
       "      <th>label</th>\n",
       "    </tr>\n",
       "  </thead>\n",
       "  <tbody>\n",
       "    <tr>\n",
       "      <th>45906</th>\n",
       "      <td>http://www.novinky.cz/zena/zdravi/397057-pet-b...</td>\n",
       "      <td>Pět bylin na pročištění těla</td>\n",
       "      <td>Zbavovat tělo škodlivých látek můžete kdykoli,...</td>\n",
       "      <td>zena</td>\n",
       "    </tr>\n",
       "    <tr>\n",
       "      <th>45907</th>\n",
       "      <td>http://www.novinky.cz/zena/zdravi/397264-pust-...</td>\n",
       "      <td>Půst není o hladovění</td>\n",
       "      <td>S přicházejícím jarem nastává období očisty or...</td>\n",
       "      <td>zena</td>\n",
       "    </tr>\n",
       "    <tr>\n",
       "      <th>45908</th>\n",
       "      <td>http://pravo.novinky.cz/p101a05a.php</td>\n",
       "      <td>Krúpa by na dluh ČSSD počkal i roky</td>\n",
       "      <td>Skupina Arca Capital slovenského miliardáře Pa...</td>\n",
       "      <td>NaN</td>\n",
       "    </tr>\n",
       "    <tr>\n",
       "      <th>45909</th>\n",
       "      <td>http://pravo.novinky.cz/p125a04b.php</td>\n",
       "      <td>Mlha kolem StarDance</td>\n",
       "      <td>Ke konci roku začne Česká televize (ČT) vysíla...</td>\n",
       "      <td>NaN</td>\n",
       "    </tr>\n",
       "    <tr>\n",
       "      <th>45910</th>\n",
       "      <td>http://pravo.novinky.cz/p145a01e.php</td>\n",
       "      <td>Matka, bojující za byt pro svého autistického ...</td>\n",
       "      <td>Helena (55) trpící rakovinou, která se starala...</td>\n",
       "      <td>NaN</td>\n",
       "    </tr>\n",
       "  </tbody>\n",
       "</table>\n",
       "</div>"
      ],
      "text/plain": [
       "                                                     url  \\\n",
       "45906  http://www.novinky.cz/zena/zdravi/397057-pet-b...   \n",
       "45907  http://www.novinky.cz/zena/zdravi/397264-pust-...   \n",
       "45908               http://pravo.novinky.cz/p101a05a.php   \n",
       "45909               http://pravo.novinky.cz/p125a04b.php   \n",
       "45910               http://pravo.novinky.cz/p145a01e.php   \n",
       "\n",
       "                                                   title  \\\n",
       "45906                       Pět bylin na pročištění těla   \n",
       "45907                              Půst není o hladovění   \n",
       "45908                Krúpa by na dluh ČSSD počkal i roky   \n",
       "45909                               Mlha kolem StarDance   \n",
       "45910  Matka, bojující za byt pro svého autistického ...   \n",
       "\n",
       "                                                   perex label  \n",
       "45906  Zbavovat tělo škodlivých látek můžete kdykoli,...  zena  \n",
       "45907  S přicházejícím jarem nastává období očisty or...  zena  \n",
       "45908  Skupina Arca Capital slovenského miliardáře Pa...   NaN  \n",
       "45909  Ke konci roku začne Česká televize (ČT) vysíla...   NaN  \n",
       "45910  Helena (55) trpící rakovinou, která se starala...   NaN  "
      ]
     },
     "execution_count": 182,
     "metadata": {},
     "output_type": "execute_result"
    },
    {
     "data": {
      "text/plain": [
       "url        0\n",
       "title      0\n",
       "perex      0\n",
       "label    176\n",
       "dtype: int64"
      ]
     },
     "execution_count": 182,
     "metadata": {},
     "output_type": "execute_result"
    }
   ],
   "source": [
    "dataset.head()\n",
    "dataset.tail()\n",
    "\n",
    "dataset.isna().sum()"
   ]
  },
  {
   "cell_type": "markdown",
   "metadata": {},
   "source": [
    "Nově vytvořený atribut *label* nabývá ve 176 případech nulové/chybějící hodnoty. Podíváme se tedy na to podrobněji."
   ]
  },
  {
   "cell_type": "code",
   "execution_count": 183,
   "metadata": {},
   "outputs": [
    {
     "data": {
      "text/html": [
       "<div>\n",
       "<style scoped>\n",
       "    .dataframe tbody tr th:only-of-type {\n",
       "        vertical-align: middle;\n",
       "    }\n",
       "\n",
       "    .dataframe tbody tr th {\n",
       "        vertical-align: top;\n",
       "    }\n",
       "\n",
       "    .dataframe thead th {\n",
       "        text-align: right;\n",
       "    }\n",
       "</style>\n",
       "<table border=\"1\" class=\"dataframe\">\n",
       "  <thead>\n",
       "    <tr style=\"text-align: right;\">\n",
       "      <th></th>\n",
       "      <th>url</th>\n",
       "      <th>title</th>\n",
       "      <th>perex</th>\n",
       "      <th>label</th>\n",
       "    </tr>\n",
       "  </thead>\n",
       "  <tbody>\n",
       "    <tr>\n",
       "      <th>459</th>\n",
       "      <td>http://pravo.novinky.cz/p138a19e.php</td>\n",
       "      <td>Bolt má formu zpátky</td>\n",
       "      <td>PRAHA – O jednu olympijskou medaili zřejmě při...</td>\n",
       "      <td>NaN</td>\n",
       "    </tr>\n",
       "    <tr>\n",
       "      <th>928</th>\n",
       "      <td>http://pravo.novinky.cz/p142a16f.php</td>\n",
       "      <td>V Kosovu obviněny kvůli korupci desítky lékařů...</td>\n",
       "      <td>Čtyřiašedesát lidí včetně ministra životního p...</td>\n",
       "      <td>NaN</td>\n",
       "    </tr>\n",
       "    <tr>\n",
       "      <th>1382</th>\n",
       "      <td>http://pravo.novinky.cz/p115a02b.php</td>\n",
       "      <td>ZAČALY ÚSTNÍ MATURITY.</td>\n",
       "      <td>Na středních školách začaly včera ústní části ...</td>\n",
       "      <td>NaN</td>\n",
       "    </tr>\n",
       "    <tr>\n",
       "      <th>1383</th>\n",
       "      <td>http://pravo.novinky.cz/p121m10h.php</td>\n",
       "      <td>Krátce</td>\n",
       "      <td>* V BRNĚ-LÍŠNI kulminuje napětí kolem budoucno...</td>\n",
       "      <td>NaN</td>\n",
       "    </tr>\n",
       "    <tr>\n",
       "      <th>1384</th>\n",
       "      <td>http://pravo.novinky.cz/p151a01e.php</td>\n",
       "      <td>Jste silná individualita, dostal stopku oceňov...</td>\n",
       "      <td>Že ani úspěchy z minulosti nejsou zárukou do b...</td>\n",
       "      <td>NaN</td>\n",
       "    </tr>\n",
       "    <tr>\n",
       "      <th>...</th>\n",
       "      <td>...</td>\n",
       "      <td>...</td>\n",
       "      <td>...</td>\n",
       "      <td>...</td>\n",
       "    </tr>\n",
       "    <tr>\n",
       "      <th>44971</th>\n",
       "      <td>http://pravo.novinky.cz/p101a03a.php</td>\n",
       "      <td>Státní přijímačky? Každá druhá úloha špatně, ž...</td>\n",
       "      <td>Státní přijímačky na střední školy poukázaly n...</td>\n",
       "      <td>NaN</td>\n",
       "    </tr>\n",
       "    <tr>\n",
       "      <th>45428</th>\n",
       "      <td>http://pravo.novinky.cz/p143a04a.php</td>\n",
       "      <td>My to Euro stejně vyhrajem, bouřily Žluté lázně</td>\n",
       "      <td>Když se zdálo, že z pražských Žlutých lázní za...</td>\n",
       "      <td>NaN</td>\n",
       "    </tr>\n",
       "    <tr>\n",
       "      <th>45908</th>\n",
       "      <td>http://pravo.novinky.cz/p101a05a.php</td>\n",
       "      <td>Krúpa by na dluh ČSSD počkal i roky</td>\n",
       "      <td>Skupina Arca Capital slovenského miliardáře Pa...</td>\n",
       "      <td>NaN</td>\n",
       "    </tr>\n",
       "    <tr>\n",
       "      <th>45909</th>\n",
       "      <td>http://pravo.novinky.cz/p125a04b.php</td>\n",
       "      <td>Mlha kolem StarDance</td>\n",
       "      <td>Ke konci roku začne Česká televize (ČT) vysíla...</td>\n",
       "      <td>NaN</td>\n",
       "    </tr>\n",
       "    <tr>\n",
       "      <th>45910</th>\n",
       "      <td>http://pravo.novinky.cz/p145a01e.php</td>\n",
       "      <td>Matka, bojující za byt pro svého autistického ...</td>\n",
       "      <td>Helena (55) trpící rakovinou, která se starala...</td>\n",
       "      <td>NaN</td>\n",
       "    </tr>\n",
       "  </tbody>\n",
       "</table>\n",
       "<p>176 rows × 4 columns</p>\n",
       "</div>"
      ],
      "text/plain": [
       "                                        url  \\\n",
       "459    http://pravo.novinky.cz/p138a19e.php   \n",
       "928    http://pravo.novinky.cz/p142a16f.php   \n",
       "1382   http://pravo.novinky.cz/p115a02b.php   \n",
       "1383   http://pravo.novinky.cz/p121m10h.php   \n",
       "1384   http://pravo.novinky.cz/p151a01e.php   \n",
       "...                                     ...   \n",
       "44971  http://pravo.novinky.cz/p101a03a.php   \n",
       "45428  http://pravo.novinky.cz/p143a04a.php   \n",
       "45908  http://pravo.novinky.cz/p101a05a.php   \n",
       "45909  http://pravo.novinky.cz/p125a04b.php   \n",
       "45910  http://pravo.novinky.cz/p145a01e.php   \n",
       "\n",
       "                                                   title  \\\n",
       "459                                 Bolt má formu zpátky   \n",
       "928    V Kosovu obviněny kvůli korupci desítky lékařů...   \n",
       "1382                              ZAČALY ÚSTNÍ MATURITY.   \n",
       "1383                                              Krátce   \n",
       "1384   Jste silná individualita, dostal stopku oceňov...   \n",
       "...                                                  ...   \n",
       "44971  Státní přijímačky? Každá druhá úloha špatně, ž...   \n",
       "45428    My to Euro stejně vyhrajem, bouřily Žluté lázně   \n",
       "45908                Krúpa by na dluh ČSSD počkal i roky   \n",
       "45909                               Mlha kolem StarDance   \n",
       "45910  Matka, bojující za byt pro svého autistického ...   \n",
       "\n",
       "                                                   perex label  \n",
       "459    PRAHA – O jednu olympijskou medaili zřejmě při...   NaN  \n",
       "928    Čtyřiašedesát lidí včetně ministra životního p...   NaN  \n",
       "1382   Na středních školách začaly včera ústní části ...   NaN  \n",
       "1383   * V BRNĚ-LÍŠNI kulminuje napětí kolem budoucno...   NaN  \n",
       "1384   Že ani úspěchy z minulosti nejsou zárukou do b...   NaN  \n",
       "...                                                  ...   ...  \n",
       "44971  Státní přijímačky na střední školy poukázaly n...   NaN  \n",
       "45428  Když se zdálo, že z pražských Žlutých lázní za...   NaN  \n",
       "45908  Skupina Arca Capital slovenského miliardáře Pa...   NaN  \n",
       "45909  Ke konci roku začne Česká televize (ČT) vysíla...   NaN  \n",
       "45910  Helena (55) trpící rakovinou, která se starala...   NaN  \n",
       "\n",
       "[176 rows x 4 columns]"
      ]
     },
     "execution_count": 183,
     "metadata": {},
     "output_type": "execute_result"
    }
   ],
   "source": [
    "dataset[dataset.isna().any(axis=1)]"
   ]
  },
  {
   "cell_type": "markdown",
   "metadata": {},
   "source": [
    "Atribut *label* nabývá nulové hodnoty v případech, kdy se struktura URL liší od vzoru uvedeného v příslušném regulárním výrazu. Z URL typu http://pravo.novinky.cz/p101a05a.php nelze *label* odvodit, a tak nám nezbývá než záznamy s chybějící hodnotou ve sloupci *label* z datasetu odstranit."
   ]
  },
  {
   "cell_type": "markdown",
   "metadata": {},
   "source": [
    "#### Odstranění záznamů s chybějící hodnotou nového atributu"
   ]
  },
  {
   "cell_type": "code",
   "execution_count": 184,
   "metadata": {},
   "outputs": [
    {
     "data": {
      "text/plain": [
       "url        0\n",
       "title      0\n",
       "perex      0\n",
       "label    176\n",
       "dtype: int64"
      ]
     },
     "execution_count": 184,
     "metadata": {},
     "output_type": "execute_result"
    },
    {
     "data": {
      "text/plain": [
       "(45911, 4)"
      ]
     },
     "execution_count": 184,
     "metadata": {},
     "output_type": "execute_result"
    },
    {
     "data": {
      "text/plain": [
       "url      0\n",
       "title    0\n",
       "perex    0\n",
       "label    0\n",
       "dtype: int64"
      ]
     },
     "execution_count": 184,
     "metadata": {},
     "output_type": "execute_result"
    },
    {
     "data": {
      "text/plain": [
       "(45735, 4)"
      ]
     },
     "execution_count": 184,
     "metadata": {},
     "output_type": "execute_result"
    }
   ],
   "source": [
    "dataset.isna().sum()\n",
    "dataset.shape\n",
    "dataset = dataset.dropna()\n",
    "dataset.isna().sum()\n",
    "dataset.shape"
   ]
  },
  {
   "cell_type": "markdown",
   "metadata": {},
   "source": [
    "#### Kontrola tříd cílového atributu\n",
    "\n",
    "Nyní se blíže podíváme na kategorie cílového atributu *label*. Zajímají nás zejména četnosti jednotlivých kategorií/tříd."
   ]
  },
  {
   "cell_type": "code",
   "execution_count": 185,
   "metadata": {},
   "outputs": [
    {
     "data": {
      "text/plain": [
       "label\n",
       "2009                    1\n",
       "2014                    1\n",
       "auto                 1093\n",
       "bydleni               794\n",
       "cestovani            1358\n",
       "domaci               5378\n",
       "ekonomika            2312\n",
       "finance               286\n",
       "horoskop              290\n",
       "internet-a-pc        1303\n",
       "irak                    4\n",
       "kariera               365\n",
       "koktejl              1244\n",
       "komentare             359\n",
       "komercni-clanky       157\n",
       "krimi                4077\n",
       "kultura              3601\n",
       "mff-kv-2016            81\n",
       "mff-kv-2017            71\n",
       "muzi                  256\n",
       "specialy               22\n",
       "stalo-se               54\n",
       "vanoce                107\n",
       "vase-zpravy         12665\n",
       "veda-skoly            863\n",
       "volba_prezidenta        1\n",
       "zahranicni           7788\n",
       "zena                 1203\n",
       "zika                    1\n",
       "dtype: int64"
      ]
     },
     "execution_count": 185,
     "metadata": {},
     "output_type": "execute_result"
    },
    {
     "data": {
      "text/plain": [
       "(29,)"
      ]
     },
     "execution_count": 185,
     "metadata": {},
     "output_type": "execute_result"
    }
   ],
   "source": [
    "dataset.groupby(['label']).size()\n",
    "dataset.groupby(['label']).size().shape"
   ]
  },
  {
   "cell_type": "markdown",
   "metadata": {},
   "source": [
    "Atribut *label* má 29 tříd. Třídy s četností jedna jsou v rámci klasifikační úlohy nepoužitelné. Proto záznamy, jejichž hodnota atributu label nabývá třídy, která se vyskytuje v datasetu jen jednou, odstraníme. Jinými slovy odstraníme záznamy s unikátní hodnotou atributu label."
   ]
  },
  {
   "cell_type": "code",
   "execution_count": 186,
   "metadata": {},
   "outputs": [
    {
     "data": {
      "text/plain": [
       "label\n",
       "auto                1093\n",
       "bydleni              794\n",
       "cestovani           1358\n",
       "domaci              5378\n",
       "ekonomika           2312\n",
       "finance              286\n",
       "horoskop             290\n",
       "internet-a-pc       1303\n",
       "irak                   4\n",
       "kariera              365\n",
       "koktejl             1244\n",
       "komentare            359\n",
       "komercni-clanky      157\n",
       "krimi               4077\n",
       "kultura             3601\n",
       "mff-kv-2016           81\n",
       "mff-kv-2017           71\n",
       "muzi                 256\n",
       "specialy              22\n",
       "stalo-se              54\n",
       "vanoce               107\n",
       "vase-zpravy        12665\n",
       "veda-skoly           863\n",
       "zahranicni          7788\n",
       "zena                1203\n",
       "dtype: int64"
      ]
     },
     "execution_count": 186,
     "metadata": {},
     "output_type": "execute_result"
    },
    {
     "data": {
      "text/plain": [
       "(25,)"
      ]
     },
     "execution_count": 186,
     "metadata": {},
     "output_type": "execute_result"
    }
   ],
   "source": [
    "dataset = dataset.groupby('label').filter(lambda x : len(x)>1)\n",
    "\n",
    "dataset.groupby(['label']).size()\n",
    "dataset.groupby(['label']).size().shape"
   ]
  },
  {
   "cell_type": "markdown",
   "metadata": {},
   "source": [
    "Zbyde nám tedy 25 kategorií/tříd cílového atributu. Je patrné, že dataset je z hlediska distribuce tříd cílového atributu nevyrovnaný. Tuto skutečnost musíme brát v potaz při testování predikčních schopností natrénovaného modelu. "
   ]
  },
  {
   "cell_type": "markdown",
   "metadata": {},
   "source": [
    "### Předzpracování textu\n",
    "\n",
    "Pokud v rámci analýzy/klasifikační úlohy pracujeme s texty v přirozeném jazyce, pak je v dobré tyto texty podrobit předzpracování/čištění za použití technik NLP. Použitím tím příslušných technik se nám podaří transformovat texty konzistentní podoby. Pro tento účel dochází nad textovým atributem *title* k:\n",
    "\n",
    "* lowercase transformaci,\n",
    "* odstranění textů v závorkách, interpunkce,\n",
    "* odstranění linků, čísel a slov obsahující čísla,\n",
    "* odstranění bezvýznamových stop slov.\n",
    "\n",
    "Pro tento účel dochází k definování dvou následujících funkcí:"
   ]
  },
  {
   "cell_type": "code",
   "execution_count": 187,
   "metadata": {},
   "outputs": [],
   "source": [
    "stop_words = get_stop_words('cz')\n",
    "\n",
    "def clean_text(text):\n",
    "    text = text.lower()\n",
    "    text = re.sub('\\[.*?\\]', '', text)\n",
    "    text = re.sub('https?://\\S+|www\\.\\S+', '', text)\n",
    "    text = re.sub('<.*?>+', '', text)\n",
    "    text = re.sub('[%s]' % re.escape(string.punctuation), '', text)\n",
    "    text = re.sub('\\n', '', text)\n",
    "    text = re.sub('\\w*\\d\\w*', '', text)\n",
    "    return text\n",
    "\n",
    "\n",
    "def text_preprocessing(text):\n",
    "    tokenizer = nltk.tokenize.RegexpTokenizer(r'\\w+')\n",
    "    nopunc = clean_text(text)\n",
    "    tokenized_text = tokenizer.tokenize(nopunc)\n",
    "    remove_stopwords = [w for w in tokenized_text if w not in stop_words]\n",
    "    combined_text = ' '.join(remove_stopwords)\n",
    "    return combined_text"
   ]
  },
  {
   "cell_type": "markdown",
   "metadata": {},
   "source": [
    "Provedení předzpracování nad atributem *title*:"
   ]
  },
  {
   "cell_type": "code",
   "execution_count": 188,
   "metadata": {},
   "outputs": [
    {
     "data": {
      "text/html": [
       "<div>\n",
       "<style scoped>\n",
       "    .dataframe tbody tr th:only-of-type {\n",
       "        vertical-align: middle;\n",
       "    }\n",
       "\n",
       "    .dataframe tbody tr th {\n",
       "        vertical-align: top;\n",
       "    }\n",
       "\n",
       "    .dataframe thead th {\n",
       "        text-align: right;\n",
       "    }\n",
       "</style>\n",
       "<table border=\"1\" class=\"dataframe\">\n",
       "  <thead>\n",
       "    <tr style=\"text-align: right;\">\n",
       "      <th></th>\n",
       "      <th>title</th>\n",
       "      <th>title_clean</th>\n",
       "    </tr>\n",
       "  </thead>\n",
       "  <tbody>\n",
       "    <tr>\n",
       "      <th>0</th>\n",
       "      <td>Modernizovaný VW Amarok ukázal interiér, v Čes...</td>\n",
       "      <td>modernizovaný vw amarok ukázal interiér v česk...</td>\n",
       "    </tr>\n",
       "    <tr>\n",
       "      <th>1</th>\n",
       "      <td>Audi R8 V10 Plus: Podívejte se, s jakou lehkos...</td>\n",
       "      <td>audi plus podívejte s jakou lehkostí dostane kmh</td>\n",
       "    </tr>\n",
       "    <tr>\n",
       "      <th>2</th>\n",
       "      <td>Toyota už prodala deset miliónů hybridů</td>\n",
       "      <td>toyota prodala miliónů hybridů</td>\n",
       "    </tr>\n",
       "    <tr>\n",
       "      <th>3</th>\n",
       "      <td>Řídit auto z pohodlí obýváku? Díky 5G sítím to...</td>\n",
       "      <td>řídit auto z pohodlí obýváku díky sítím půjde</td>\n",
       "    </tr>\n",
       "    <tr>\n",
       "      <th>4</th>\n",
       "      <td>Nový Renault Mégane R.S. dostane menší motor</td>\n",
       "      <td>nový renault mégane rs dostane menší motor</td>\n",
       "    </tr>\n",
       "  </tbody>\n",
       "</table>\n",
       "</div>"
      ],
      "text/plain": [
       "                                               title  \\\n",
       "0  Modernizovaný VW Amarok ukázal interiér, v Čes...   \n",
       "1  Audi R8 V10 Plus: Podívejte se, s jakou lehkos...   \n",
       "2            Toyota už prodala deset miliónů hybridů   \n",
       "3  Řídit auto z pohodlí obýváku? Díky 5G sítím to...   \n",
       "4       Nový Renault Mégane R.S. dostane menší motor   \n",
       "\n",
       "                                         title_clean  \n",
       "0  modernizovaný vw amarok ukázal interiér v česk...  \n",
       "1   audi plus podívejte s jakou lehkostí dostane kmh  \n",
       "2                     toyota prodala miliónů hybridů  \n",
       "3      řídit auto z pohodlí obýváku díky sítím půjde  \n",
       "4         nový renault mégane rs dostane menší motor  "
      ]
     },
     "execution_count": 188,
     "metadata": {},
     "output_type": "execute_result"
    },
    {
     "data": {
      "text/html": [
       "<div>\n",
       "<style scoped>\n",
       "    .dataframe tbody tr th:only-of-type {\n",
       "        vertical-align: middle;\n",
       "    }\n",
       "\n",
       "    .dataframe tbody tr th {\n",
       "        vertical-align: top;\n",
       "    }\n",
       "\n",
       "    .dataframe thead th {\n",
       "        text-align: right;\n",
       "    }\n",
       "</style>\n",
       "<table border=\"1\" class=\"dataframe\">\n",
       "  <thead>\n",
       "    <tr style=\"text-align: right;\">\n",
       "      <th></th>\n",
       "      <th>title</th>\n",
       "      <th>title_clean</th>\n",
       "    </tr>\n",
       "  </thead>\n",
       "  <tbody>\n",
       "    <tr>\n",
       "      <th>45903</th>\n",
       "      <td>Kalhotová sukně se nosí i na podzim</td>\n",
       "      <td>kalhotová sukně nosí i podzim</td>\n",
       "    </tr>\n",
       "    <tr>\n",
       "      <th>45904</th>\n",
       "      <td>Dcera monackého knížete chce jít ve šlépějích ...</td>\n",
       "      <td>dcera monackého knížete jít šlépějích své babi...</td>\n",
       "    </tr>\n",
       "    <tr>\n",
       "      <th>45905</th>\n",
       "      <td>Nastal měsíc mužské solidarity</td>\n",
       "      <td>nastal měsíc mužské solidarity</td>\n",
       "    </tr>\n",
       "    <tr>\n",
       "      <th>45906</th>\n",
       "      <td>Pět bylin na pročištění těla</td>\n",
       "      <td>bylin pročištění těla</td>\n",
       "    </tr>\n",
       "    <tr>\n",
       "      <th>45907</th>\n",
       "      <td>Půst není o hladovění</td>\n",
       "      <td>půst o hladovění</td>\n",
       "    </tr>\n",
       "  </tbody>\n",
       "</table>\n",
       "</div>"
      ],
      "text/plain": [
       "                                                   title  \\\n",
       "45903                Kalhotová sukně se nosí i na podzim   \n",
       "45904  Dcera monackého knížete chce jít ve šlépějích ...   \n",
       "45905                     Nastal měsíc mužské solidarity   \n",
       "45906                       Pět bylin na pročištění těla   \n",
       "45907                              Půst není o hladovění   \n",
       "\n",
       "                                             title_clean  \n",
       "45903                      kalhotová sukně nosí i podzim  \n",
       "45904  dcera monackého knížete jít šlépějích své babi...  \n",
       "45905                     nastal měsíc mužské solidarity  \n",
       "45906                              bylin pročištění těla  \n",
       "45907                                   půst o hladovění  "
      ]
     },
     "execution_count": 188,
     "metadata": {},
     "output_type": "execute_result"
    }
   ],
   "source": [
    "dataset['title_clean'] = dataset['title'].apply(str).apply(lambda x: text_preprocessing(x))\n",
    "\n",
    "dataset[['title', 'title_clean']].head()\n",
    "dataset[['title', 'title_clean']].tail()"
   ]
  },
  {
   "cell_type": "markdown",
   "metadata": {},
   "source": [
    "### Transformace cílové proměnné na numerickou proměnnou a rozdělení datasetu na trénovací a testovací část\n",
    "\n",
    "Některé metody strojového učení předpokládají, že cílový atribut nabývá numerických hodnot. Z toho důvodu je rozumné přistoupit k následující transformaci:"
   ]
  },
  {
   "cell_type": "code",
   "execution_count": 189,
   "metadata": {},
   "outputs": [
    {
     "data": {
      "text/plain": [
       "label\n",
       "0      1093\n",
       "1       794\n",
       "2      1358\n",
       "3      5378\n",
       "4      2312\n",
       "5       286\n",
       "6       290\n",
       "7      1303\n",
       "8         4\n",
       "9       365\n",
       "10     1244\n",
       "11      359\n",
       "12      157\n",
       "13     4077\n",
       "14     3601\n",
       "15       81\n",
       "16       71\n",
       "17      256\n",
       "18       22\n",
       "19       54\n",
       "20      107\n",
       "21    12665\n",
       "22      863\n",
       "23     7788\n",
       "24     1203\n",
       "dtype: int64"
      ]
     },
     "execution_count": 189,
     "metadata": {},
     "output_type": "execute_result"
    }
   ],
   "source": [
    "le = LabelEncoder()\n",
    "dataset['label'] = le.fit_transform(dataset['label'])\n",
    "\n",
    "dataset.groupby(['label']).size()"
   ]
  },
  {
   "cell_type": "markdown",
   "metadata": {},
   "source": [
    "Posledním krokem před samotnou klasifikační úlohou, resp. modelováním je rozdělení datasetu na trénovací a testovací část v poměru 8:2 při respektování distribuce tříd v celkovém datasetu. O to se stará parametr *stratify*. "
   ]
  },
  {
   "cell_type": "code",
   "execution_count": 190,
   "metadata": {},
   "outputs": [
    {
     "name": "stdout",
     "output_type": "stream",
     "text": [
      "train shape:  (36584, 2)\n",
      "test shape:  (9147, 2)\n"
     ]
    }
   ],
   "source": [
    "train, test = train_test_split(dataset[['title_clean', 'label']],\n",
    "                                                    test_size=.2, random_state=123,\n",
    "                                                    stratify=dataset['label'])\n",
    " \n",
    "print('train shape: ',train.shape)\n",
    "print('test shape: ',test.shape)"
   ]
  },
  {
   "cell_type": "markdown",
   "metadata": {},
   "source": [
    "## Modelování \n",
    "\n",
    "Předzpracovaný dataset lze nyní použít ve fázi modelování. Cílem modelování je za použití trénovací sady dat natrénovat klasifikační model vybrané metody strojového učení. V kontextu klasifikační úlohy nad přirozenými texty je možné se vydat dvěma směry: \n",
    "\n",
    "* tradiční: založený na modelech *TF-IDF* transformující texty na jejich vektorovou reprezentaci a na následném použití modelů klasifikačních metod ML nad těmito reprezentacemi,\n",
    "* moderní: založený nad metodě *DNN*, tj. hlubokých neuronových sítí, které provádějí embedding a klasifikaci v rámci jednoho supervizovaného modelu.\n",
    "\n",
    "Pro účely tohoto úkolu je vybrán přístup druhý. Abychom nemuseli přistupovat k trénování celého modelu s vlastní architekturou, lze pro účely této úlohy přepoužít nějaký volně dostupný a na rozsáhlých datech předtrénovaný model a dotrénovat ho na našich datech. Vzhledem ke skutečnosti, že se jedná o úlohu nad texty v češtině, máme na výběr ze dvou skupin předtrénovaných modelů:\n",
    "\n",
    "* Multilingvální modely (mBERT,...),\n",
    "* Monolingvální modely pro češtinu (Czert-B-base-cased,...).\n",
    "\n",
    "Multilingvální modely bývají větší, komplexnější (více parametrů), vyžadují více dat a více výpočnch zdrojů pro jejich přetrénování. Z toho důvodu vybereme monolingvální model *Czert-B-base-cased* (https://huggingface.co/UWB-AIR/Czert-B-base-cased\n",
    "), který umí pracovat s češtinou. \n",
    "\n",
    "Samotné modelování využívá funkcionalitu knihovny *Simple Transformers*. https://simpletransformers.ai/docs/usage/\n",
    "\n",
    "### Načtení předtrénovaného modelu a definování parametrů pro trénování "
   ]
  },
  {
   "cell_type": "code",
   "execution_count": 147,
   "metadata": {},
   "outputs": [
    {
     "name": "stderr",
     "output_type": "stream",
     "text": [
      "Some weights of BertForSequenceClassification were not initialized from the model checkpoint at UWB-AIR/Czert-B-base-cased and are newly initialized: ['classifier.bias', 'classifier.weight']\n",
      "You should probably TRAIN this model on a down-stream task to be able to use it for predictions and inference.\n"
     ]
    }
   ],
   "source": [
    "# define hyperparameter\n",
    "train_args ={'num_train_epochs': 3,\n",
    "            'train_batch_size': 32,\n",
    "            'eval_batch_size': 64,\n",
    "            'fp16': False,\n",
    "            \"reprocess_input_data\": True,\n",
    "            'overwrite_output_dir': True}\n",
    " \n",
    "# Create a ClassificationModel\n",
    "model = ClassificationModel(\"bert\", \"UWB-AIR/Czert-B-base-cased\",\n",
    "                            num_labels=25,\n",
    "                            args=train_args,\n",
    "                            use_cuda=False)"
   ]
  },
  {
   "cell_type": "markdown",
   "metadata": {},
   "source": [
    "### Trénování modelu\n",
    "\n",
    "U předtrénovaného modelu dochází za použití doménově specifických trénovacích dat k přetrénování jeho klasifikační části. "
   ]
  },
  {
   "cell_type": "code",
   "execution_count": 148,
   "metadata": {},
   "outputs": [
    {
     "name": "stderr",
     "output_type": "stream",
     "text": [
      "C:\\Users\\jveverka\\AppData\\Roaming\\Python\\Python38\\site-packages\\simpletransformers\\classification\\classification_model.py:585: UserWarning: Dataframe headers not specified. Falling back to using column 0 as text and column 1 as labels.\n",
      "  warnings.warn(\n"
     ]
    },
    {
     "data": {
      "application/vnd.jupyter.widget-view+json": {
       "model_id": "af31a8ec128444278ffc7e69ec49a224",
       "version_major": 2,
       "version_minor": 0
      },
      "text/plain": [
       "HBox(children=(HTML(value=''), FloatProgress(value=0.0, max=36584.0), HTML(value='')))"
      ]
     },
     "metadata": {},
     "output_type": "display_data"
    },
    {
     "name": "stdout",
     "output_type": "stream",
     "text": [
      "\n"
     ]
    },
    {
     "data": {
      "application/vnd.jupyter.widget-view+json": {
       "model_id": "144613a512764d3497339b815aeb9d00",
       "version_major": 2,
       "version_minor": 0
      },
      "text/plain": [
       "HBox(children=(HTML(value='Epoch'), FloatProgress(value=0.0, max=3.0), HTML(value='')))"
      ]
     },
     "metadata": {},
     "output_type": "display_data"
    },
    {
     "data": {
      "application/vnd.jupyter.widget-view+json": {
       "model_id": "f40a3621563a44e6a04c2f58ec745f6e",
       "version_major": 2,
       "version_minor": 0
      },
      "text/plain": [
       "HBox(children=(HTML(value='Running Epoch 0 of 3'), FloatProgress(value=0.0, max=1144.0), HTML(value='')))"
      ]
     },
     "metadata": {},
     "output_type": "display_data"
    },
    {
     "name": "stdout",
     "output_type": "stream",
     "text": [
      "\n"
     ]
    },
    {
     "data": {
      "application/vnd.jupyter.widget-view+json": {
       "model_id": "cb69fe66d76f4554ae758b2a3aef499c",
       "version_major": 2,
       "version_minor": 0
      },
      "text/plain": [
       "HBox(children=(HTML(value='Running Epoch 1 of 3'), FloatProgress(value=0.0, max=1144.0), HTML(value='')))"
      ]
     },
     "metadata": {},
     "output_type": "display_data"
    },
    {
     "name": "stdout",
     "output_type": "stream",
     "text": [
      "\n"
     ]
    },
    {
     "data": {
      "application/vnd.jupyter.widget-view+json": {
       "model_id": "e94fc20b257c45bf8ec2b61a912bf48d",
       "version_major": 2,
       "version_minor": 0
      },
      "text/plain": [
       "HBox(children=(HTML(value='Running Epoch 2 of 3'), FloatProgress(value=0.0, max=1144.0), HTML(value='')))"
      ]
     },
     "metadata": {},
     "output_type": "display_data"
    },
    {
     "name": "stdout",
     "output_type": "stream",
     "text": [
      "\n",
      "\n"
     ]
    },
    {
     "data": {
      "text/plain": [
       "(3432, 0.6182293110556406)"
      ]
     },
     "execution_count": 148,
     "metadata": {},
     "output_type": "execute_result"
    }
   ],
   "source": [
    "model.train_model(train)"
   ]
  },
  {
   "cell_type": "markdown",
   "metadata": {},
   "source": [
    "### Evaluace modelu \n",
    "\n",
    "U dotrénovaného modelu nyní přistoupíme k otestovaní jeho predikčních/klasifikačních schopností na připravené testovací sadě dat. Jako základní evaluační metriku zvolíme *celkovou správnost klasifikace* (Accuracy)."
   ]
  },
  {
   "cell_type": "code",
   "execution_count": 153,
   "metadata": {},
   "outputs": [
    {
     "data": {
      "text/plain": [
       "{'mcc': 0.777862194336891,\n",
       " 'acc': 0.8096643708319667,\n",
       " 'eval_loss': 0.7059078866785223}"
      ]
     },
     "execution_count": 153,
     "metadata": {},
     "output_type": "execute_result"
    }
   ],
   "source": [
    "result, model_outputs, wrong_predictions = model.eval_model(test, acc=sklearn.metrics.accuracy_score)\n",
    "result"
   ]
  },
  {
   "cell_type": "markdown",
   "metadata": {},
   "source": [
    "Z výše uvedeného výstupu je patrné, že hodnota metriky *celkové správnosti* na testovacích datech přesahuje 80 procent, tj. přibližně každý pátý testovací záznam byl klasifikován do jiné než jeho skutečné třídy. "
   ]
  },
  {
   "cell_type": "markdown",
   "metadata": {},
   "source": [
    "#### Matice záměn \n",
    "Hodnota metriky *celková správnost* nemusí být vždy reprezentativním ukazatelem kvality modelu. Z toho důvodu je vhodné si zobrazit *matici záměn* (confusion matrix), která dává do souvislosti v kontextu jednotlivých tříd predikované a skutečné třídy. Dají se pak z ní dopočítat ostatní metriky typu *přesnost, úplnost, F1 míra,...*\n",
    "\n",
    "Určení predikovaných a skutečných tříd a následná kontrola hodnoty testovací *celkové správnosti*:"
   ]
  },
  {
   "cell_type": "code",
   "execution_count": 191,
   "metadata": {},
   "outputs": [
    {
     "data": {
      "text/plain": [
       "0.8096643708319667"
      ]
     },
     "execution_count": 191,
     "metadata": {},
     "output_type": "execute_result"
    }
   ],
   "source": [
    "predicted_classes = [np.argmax(arr) for arr in model_outputs]\n",
    "true_classes = test['label'].tolist()\n",
    "\n",
    "accuracy_score(true_classes, predicted_classes)"
   ]
  },
  {
   "cell_type": "markdown",
   "metadata": {},
   "source": [
    "Pro zobrazení *matice záměn* využijeme pomocnou funkci:"
   ]
  },
  {
   "cell_type": "code",
   "execution_count": 192,
   "metadata": {},
   "outputs": [
    {
     "data": {
      "image/png": "[encoded data removed]",
      "text/plain": [
       "<Figure size 1440x1440 with 2 Axes>"
      ]
     },
     "metadata": {
      "needs_background": "light"
     },
     "output_type": "display_data"
    }
   ],
   "source": [
    "def plot_cm(y_true, y_pred, title, figsize=(5,5)):\n",
    "    cm = confusion_matrix(y_true, y_pred, labels=np.unique(y_true))\n",
    "    cm_sum = np.sum(cm, axis=1, keepdims=True)\n",
    "    cm_perc = cm / cm_sum.astype(float) * 100\n",
    "    annot = np.empty_like(cm).astype(str)\n",
    "    nrows, ncols = cm.shape\n",
    "    for i in range(nrows):\n",
    "        for j in range(ncols):\n",
    "            c = cm[i, j]\n",
    "            p = cm_perc[i, j]\n",
    "            if i == j:\n",
    "                s = cm_sum[i]\n",
    "                annot[i, j] = '%.1f%%\\n%d/%d' % (p, c, s)\n",
    "            elif c == 0:\n",
    "                annot[i, j] = ''\n",
    "            else:\n",
    "                annot[i, j] = '%.1f%%\\n%d' % (p, c)\n",
    "    cm = pd.DataFrame(cm, index=np.unique(y_true), columns=np.unique(y_true))\n",
    "    cm.index.name = 'Actual'\n",
    "    cm.columns.name = 'Predicted'\n",
    "    fig, ax = plt.subplots(figsize=figsize)\n",
    "    plt.title(title)\n",
    "    sns.heatmap(cm, cmap= \"YlGnBu\", annot=annot, fmt='', ax=ax)\n",
    "    \n",
    "    \n",
    "plot_cm(true_classes, predicted_classes, 'Matice záměn pro model Czert-B-base-cased', figsize=(20,20))"
   ]
  },
  {
   "cell_type": "markdown",
   "metadata": {},
   "source": [
    "Interpretace *matice záměn* je následující: Pokud vezmeme v potaz buňku na pozici 1x1, tak ta nám říká, že z celkového počtu testovacích záznamů nabývající třídy 1 (159), bylo 74procentům těchto záznamů také tato třída modelem predikována. Této hodnotě se standardně říká *úplnost*. Ta se vypočítá vůči každé třídě a udává, jakému podílu testovacích záznamů s danou třídou byla modelem také tato třída predikována. Na podobném principu funguje i metrika *přesnost*. Ta v kontextu každé třídy udává v kolika procentech případů, kdy model predikoval onu třídu, predikovat tuto třídu správně."
   ]
  }
 ],
 "metadata": {
  "kernelspec": {
   "display_name": "Python 3",
   "language": "python",
   "name": "python3"
  },
  "language_info": {
   "codemirror_mode": {
    "name": "ipython",
    "version": 3
   },
   "file_extension": ".py",
   "mimetype": "text/x-python",
   "name": "python",
   "nbconvert_exporter": "python",
   "pygments_lexer": "ipython3",
   "version": "3.8.6rc1"
  }
 },
 "nbformat": 4,
 "nbformat_minor": 4
}
